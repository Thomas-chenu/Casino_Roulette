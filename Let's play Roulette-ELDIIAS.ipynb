{
 "cells": [
  {
   "cell_type": "markdown",
   "metadata": {
    "collapsed": true
   },
   "source": [
    "# Eldiias plays the roulette!\n",
    "\n",
    "- let's play the roulette and see what happens\n",
    "- Same number : you win 35 times your gamble\n",
    "- Same parity : you win 1 time your gamble\n",
    "- print the amount of money held at the end of the party\n",
    "- do you want to play more? (y/n)"
   ]
  },
  {
   "cell_type": "code",
   "execution_count": null,
   "metadata": {},
   "outputs": [],
   "source": []
  },
  {
   "cell_type": "code",
   "execution_count": null,
   "metadata": {},
   "outputs": [],
   "source": []
  },
  {
   "cell_type": "code",
   "execution_count": 1,
   "metadata": {
    "scrolled": true
   },
   "outputs": [
    {
     "name": "stdout",
     "output_type": "stream",
     "text": [
      "Eldiias is sitting at the roulette table.\n"
     ]
    }
   ],
   "source": [
    "import random\n",
    "print(\"Eldiias is sitting at the roulette table.\")\n",
    "Eldiias_bank = 1000"
   ]
  },
  {
   "cell_type": "code",
   "execution_count": 2,
   "metadata": {},
   "outputs": [
    {
     "name": "stdout",
     "output_type": "stream",
     "text": [
      "['1', '2', '3', '4', '5', '6', '7', '8', '9', '10', '11', '12', '13', '14', '15', '16', '17', '18', '19', '20', '21', '22', '23', '24', '25', '26', '27', '28', '29', '30', '31', '32', '33', '34', '35', '36', 'even', 'odd']\n"
     ]
    }
   ],
   "source": [
    "numbers= [str(i) for i in range(1,37)]\n",
    "choicelist=numbers\n",
    "choicelist.append(\"even\")\n",
    "choicelist.append(\"odd\")\n",
    "', '.join(choicelist)\n",
    "print(choicelist)\n"
   ]
  },
  {
   "cell_type": "code",
   "execution_count": 3,
   "metadata": {},
   "outputs": [],
   "source": [
    "def Eldiias_gamble():\n",
    "    gamble = int(input(\"Eldiias, choose how much you want to gamble: \"))\n",
    "    while gamble>= Eldiias_bank:\n",
    "        print(\"Not enough money left\")\n",
    "        gamble = int(input(\"Eldiias, choose how much you want to gamble (max bank): \"))\n",
    "    return gamble"
   ]
  },
  {
   "cell_type": "code",
   "execution_count": 4,
   "metadata": {},
   "outputs": [],
   "source": [
    "def casino_number():  \n",
    "    return random.choice(numbers)"
   ]
  },
  {
   "cell_type": "code",
   "execution_count": 5,
   "metadata": {},
   "outputs": [],
   "source": [
    "def Eldiias_choice():\n",
    "    E_input = input(\"Eldiias, please choose even, odd or any number between 1 & 36: \")\n",
    "    while E_input.lower() not in choicelist:\n",
    "        E_input = input(\"please choose again: \")\n",
    "    return (E_input.lower())\n"
   ]
  },
  {
   "cell_type": "code",
   "execution_count": null,
   "metadata": {},
   "outputs": [],
   "source": []
  },
  {
   "cell_type": "code",
   "execution_count": 6,
   "metadata": {},
   "outputs": [
    {
     "name": "stdout",
     "output_type": "stream",
     "text": [
      "Eldiias, choose how much you want to gamble: 444\n",
      "Eldiias, please choose even, odd or any number between 1 & 36: Odd\n",
      "The roulette number is 16\n",
      "Eldiias loses!\n",
      "Eldiias's bank now is 556\n"
     ]
    },
    {
     "data": {
      "text/plain": [
       "556"
      ]
     },
     "execution_count": 6,
     "metadata": {},
     "output_type": "execute_result"
    }
   ],
   "source": [
    "def Roulette_game():\n",
    "    Eldiias_bank = 1000\n",
    "    gamble = Eldiias_gamble()\n",
    "    eldiias = Eldiias_choice()\n",
    "    casino = casino_number()\n",
    "    \n",
    "    if eldiias == casino:\n",
    "        earnings =gamble*36\n",
    "        print('The roulette number is', casino)\n",
    "        print('Eldiias wins', earnings)\n",
    "        Eldiias_new_bank = Eldiias_bank + earnings -gamble\n",
    "        print (\"Eldiias's bank now is\", Eldiias_new_bank)\n",
    "        return Eldiias_new_bank\n",
    "        \n",
    "    elif eldiias == \"even\" and int(casino)%2==0:\n",
    "        earnings =gamble*2\n",
    "        print('The roulette number is:', casino)\n",
    "        print('Eldiias wins', earnings)\n",
    "        Eldiias_new_bank = Eldiias_bank + earnings -gamble\n",
    "        print (\"Eldiias's bank now is\", Eldiias_new_bank)\n",
    "        return Eldiias_new_bank\n",
    "    \n",
    "    elif eldiias == \"odd\" and int(casino)%2==1:\n",
    "        earnings =gamble*2\n",
    "        print('The roulette number is:', casino)\n",
    "        print('Eldiias wins', earnings)\n",
    "        Eldiias_new_bank = Eldiias_bank + earnings -gamble\n",
    "        print (\"Eldiias's bank now is\", Eldiias_new_bank)\n",
    "        return Eldiias_new_bank\n",
    "    \n",
    "    else:\n",
    "        earnings = 0\n",
    "        print('The roulette number is', casino)\n",
    "        print('Eldiias loses!') \n",
    "        Eldiias_new_bank = Eldiias_bank + earnings -gamble\n",
    "        print (\"Eldiias's bank now is\", Eldiias_new_bank)\n",
    "        return Eldiias_new_bank\n",
    "\n",
    "Roulette_game()"
   ]
  },
  {
   "cell_type": "code",
   "execution_count": null,
   "metadata": {},
   "outputs": [],
   "source": []
  },
  {
   "cell_type": "code",
   "execution_count": 7,
   "metadata": {},
   "outputs": [
    {
     "name": "stdout",
     "output_type": "stream",
     "text": [
      "Play again? Y/N: n\n",
      "Play again.\n"
     ]
    }
   ],
   "source": [
    "def whole_game():\n",
    "   \n",
    "    x = input(\"Play again? Y/N: \")\n",
    "    if x == \"Yes\" or \"yes\" or \"YES\" or \"y\" or \"Y\" and Eldiias_bank>=0:\n",
    "        print(\"Play again.\")\n",
    "    else:\n",
    "        print(\"Game over.\")\n",
    "whole_game()"
   ]
  },
  {
   "cell_type": "code",
   "execution_count": null,
   "metadata": {},
   "outputs": [],
   "source": []
  },
  {
   "cell_type": "code",
   "execution_count": null,
   "metadata": {},
   "outputs": [],
   "source": []
  },
  {
   "cell_type": "code",
   "execution_count": null,
   "metadata": {},
   "outputs": [],
   "source": []
  },
  {
   "cell_type": "code",
   "execution_count": null,
   "metadata": {},
   "outputs": [],
   "source": []
  }
 ],
 "metadata": {
  "kernelspec": {
   "display_name": "Python 3",
   "language": "python",
   "name": "python3"
  },
  "language_info": {
   "codemirror_mode": {
    "name": "ipython",
    "version": 3
   },
   "file_extension": ".py",
   "mimetype": "text/x-python",
   "name": "python",
   "nbconvert_exporter": "python",
   "pygments_lexer": "ipython3",
   "version": "3.7.6"
  }
 },
 "nbformat": 4,
 "nbformat_minor": 4
}
